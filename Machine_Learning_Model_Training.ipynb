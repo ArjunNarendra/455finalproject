{
  "cells": [
    {
      "cell_type": "markdown",
      "metadata": {
        "id": "view-in-github",
        "colab_type": "text"
      },
      "source": [
        "<a href=\"https://colab.research.google.com/github/ArjunNarendra/455finalproject/blob/main/Machine_Learning_Model_Training.ipynb\" target=\"_parent\"><img src=\"https://colab.research.google.com/assets/colab-badge.svg\" alt=\"Open In Colab\"/></a>"
      ]
    },
    {
      "cell_type": "markdown",
      "metadata": {
        "id": "mriK9OpzoNqt"
      },
      "source": [
        "# Machine Learning Model Training\n",
        "\n",
        "We train different models on the EMNIST dataset and see which one performs best.\n"
      ]
    },
    {
      "cell_type": "markdown",
      "metadata": {
        "id": "ZidV2DtLowS7"
      },
      "source": [
        "## Inital Setup\n",
        "\n",
        "We download the EMNIST dataset and define our training and accuracy functions."
      ]
    },
    {
      "cell_type": "code",
      "execution_count": null,
      "metadata": {
        "id": "P_6CDhkMV2u1"
      },
      "outputs": [],
      "source": [
        "import cv2\n",
        "\n"
      ]
    },
    {
      "cell_type": "code",
      "execution_count": null,
      "metadata": {
        "id": "URLWhQdy5ryn"
      },
      "outputs": [],
      "source": [
        "import torch\n",
        "import torchvision\n",
        "import torchvision.transforms as transforms\n",
        "\n",
        "device = torch.device(\"cuda:0\" if torch.cuda.is_available() else \"cpu\")\n",
        "print(device)"
      ]
    },
    {
      "cell_type": "code",
      "execution_count": null,
      "metadata": {
        "id": "C4t0JiQYpUFT"
      },
      "outputs": [],
      "source": [
        "import torchvision\n",
        "import torchvision.transforms as transforms\n",
        "\n",
        "def get_emnist_data():\n",
        "  # Need to perform a rotate and flip to properly orient the images\n",
        "  trainset = torchvision.datasets.EMNIST(root='./data', split='byclass', train=True, download=True,\n",
        "                                        transform=transforms.Compose([lambda img: torchvision.transforms.functional.rotate(img, -90),\n",
        "                    lambda img: torchvision.transforms.functional.hflip(img),\n",
        "                    torchvision.transforms.ToTensor()]))\n",
        "  trainloader = torch.utils.data.DataLoader(trainset, batch_size=32, shuffle=True,\n",
        "                                            num_workers=8)\n",
        "\n",
        "  testset = torchvision.datasets.EMNIST(root='./data', split='byclass', train=False, download=True,\n",
        "                                      transform=transforms.Compose([lambda img: torchvision.transforms.functional.rotate(img, -90),\n",
        "                    lambda img: torchvision.transforms.functional.hflip(img),\n",
        "                    torchvision.transforms.ToTensor()]))\n",
        "  testloader = torch.utils.data.DataLoader(testset, batch_size=32, shuffle=False,\n",
        "                                          num_workers=8)\n",
        "  classes = range(62)\n",
        "  return {'train': trainloader, 'test': testloader, 'classes': classes}\n",
        "\n",
        "data = get_emnist_data()"
      ]
    },
    {
      "cell_type": "code",
      "execution_count": null,
      "metadata": {
        "id": "_t1d_mS1qAPe"
      },
      "outputs": [],
      "source": [
        "print(data['train'].__dict__)"
      ]
    },
    {
      "cell_type": "code",
      "execution_count": null,
      "metadata": {
        "id": "OXkWO2PH4xLK"
      },
      "outputs": [],
      "source": [
        "print(data['test'].__dict__)"
      ]
    },
    {
      "cell_type": "code",
      "execution_count": null,
      "metadata": {
        "id": "yRotkszLqm7Y"
      },
      "outputs": [],
      "source": [
        "dataiter = iter(data['train'])\n",
        "images, labels = next(dataiter)\n",
        "print(images.size())"
      ]
    },
    {
      "cell_type": "code",
      "execution_count": null,
      "metadata": {
        "id": "9NDl4TFGqywI"
      },
      "outputs": [],
      "source": [
        "import matplotlib.pyplot as plt\n",
        "import numpy as np\n",
        "\n",
        "def imshow(img):\n",
        "    npimg = img.numpy()\n",
        "    plt.imshow(np.transpose(npimg, (1, 2, 0)))\n",
        "    plt.show()\n",
        "\n",
        "# show images\n",
        "imshow(torchvision.utils.make_grid(images))\n",
        "# print labels\n",
        "print(\"Labels:\" + ' '.join('%9s' % data['classes'][labels[j]] for j in range(8)))\n",
        "\n",
        "\n",
        "flat = torch.flatten(images, 1)\n",
        "print(images.size())\n",
        "print(flat.size())"
      ]
    },
    {
      "cell_type": "code",
      "execution_count": null,
      "metadata": {
        "id": "skDFgDAk6ThE"
      },
      "outputs": [],
      "source": [
        "def accuracy(net, dataloader):\n",
        "  correct = 0\n",
        "  total = 0\n",
        "  with torch.no_grad():\n",
        "      for batch in dataloader:\n",
        "          images, labels = batch[0].to(device), batch[1].to(device)\n",
        "          outputs = net(images)\n",
        "          _, predicted = torch.max(outputs.data, 1)\n",
        "          total += labels.size(0)\n",
        "          correct += (predicted == labels).sum().item()\n",
        "  return correct/total"
      ]
    },
    {
      "cell_type": "code",
      "execution_count": null,
      "metadata": {
        "id": "qqDBJqsF6fW8"
      },
      "outputs": [],
      "source": [
        "import torch.optim as optim\n",
        "\n",
        "def train(net, dataloader, epochs=1, lr=0.01, momentum=0.9, decay=0.0005, verbose=1):\n",
        "  \n",
        "  net.to(device)\n",
        "  losses = []\n",
        "  criterion = nn.CrossEntropyLoss()\n",
        "  optimizer = optim.SGD(net.parameters(), lr=lr, momentum=momentum, weight_decay=decay)\n",
        "  for epoch in range(epochs):\n",
        "    sum_loss = 0.0\n",
        "    for i, batch in enumerate(dataloader, 0):\n",
        "        # get the inputs; data is a list of [inputs, labels]\n",
        "        inputs, labels = batch[0].to(device), batch[1].to(device)\n",
        "        \n",
        "\n",
        "        # zero the parameter gradients\n",
        "        optimizer.zero_grad()\n",
        "\n",
        "        # Forward propogate, backward propogate, and update weights\n",
        "        outputs = net(inputs)\n",
        "        loss = criterion(outputs, labels)\n",
        "        loss.backward()  # autograd magic, computes all the partial derivatives\n",
        "        optimizer.step() # takes a step in negative gradient direction\n",
        "\n",
        "        # print statistics\n",
        "        losses.append(loss.item())\n",
        "        sum_loss += loss.item()\n",
        "        if i % 100 == 99:    # print every 100 mini-batches\n",
        "            if verbose:\n",
        "              print('[%d, %5d] loss: %.3f' %\n",
        "                  (epoch + 1, i + 1, sum_loss / 100))\n",
        "            sum_loss = 0.0\n",
        "  return losses"
      ]
    },
    {
      "cell_type": "markdown",
      "source": [
        "## Neural Network 1\n",
        "\n",
        "This network has one hidden layer. The training accuracy was 82.69% and the testing accuracy was 82.39%."
      ],
      "metadata": {
        "id": "Xs_XzX2f-Dq3"
      }
    },
    {
      "cell_type": "code",
      "execution_count": null,
      "metadata": {
        "id": "alYn-lNd6wNT"
      },
      "outputs": [],
      "source": [
        "import torch.nn as nn\n",
        "import torch.nn.functional as F\n",
        "\n",
        "# Neural network 1: Simple neural network with one hidden layer\n",
        "class Net1(nn.Module):\n",
        "    def __init__(self, inputs=28*28, hidden=512, outputs=62):\n",
        "        super(Net1, self).__init__()\n",
        "        self.fc1 = nn.Linear(inputs, hidden)\n",
        "        self.fc2 = nn.Linear(hidden, outputs)\n",
        "\n",
        "    def forward(self, x):\n",
        "        x = torch.flatten(x, 1) \n",
        "        x = self.fc1(x)\n",
        "        x = F.relu(x)   \n",
        "        x = self.fc2(x) \n",
        "        return x      "
      ]
    },
    {
      "cell_type": "code",
      "execution_count": null,
      "metadata": {
        "id": "SaKk1Ss0yQXp"
      },
      "outputs": [],
      "source": [
        "# Train Net1 with default hyperparameters\n",
        "net = Net1()\n",
        "losses = train(net, data['train'], epochs=5)\n",
        "plt.plot(losses)"
      ]
    },
    {
      "cell_type": "code",
      "execution_count": null,
      "metadata": {
        "id": "0woQdGV56hVC"
      },
      "outputs": [],
      "source": [
        "print(\"Net1 train accuracy: %f\" % accuracy(net, data['train']))"
      ]
    },
    {
      "cell_type": "code",
      "execution_count": null,
      "metadata": {
        "id": "JqyPEiHJH3Jx"
      },
      "outputs": [],
      "source": [
        "print(\"Net1 test accuracy: %f\" % accuracy(net, data['test']))"
      ]
    },
    {
      "cell_type": "markdown",
      "source": [
        "We tried varying the learning rate of Net1, but this did not seem to have any significant effect on the model's accuracy"
      ],
      "metadata": {
        "id": "rVzAH2rE-Pot"
      }
    },
    {
      "cell_type": "code",
      "execution_count": null,
      "metadata": {
        "id": "MjMvqY2kxwNH"
      },
      "outputs": [],
      "source": [
        "# Train Net1 with learning rate = 0.1\n",
        "net = Net1()\n",
        "losses = train(net, data['train'], epochs=3)\n",
        "plt.plot(losses)"
      ]
    },
    {
      "cell_type": "code",
      "execution_count": null,
      "metadata": {
        "colab": {
          "background_save": true
        },
        "id": "o0Z6XhEH3x2U"
      },
      "outputs": [],
      "source": [
        "print(\"Net1 train accuracy: %f\" % accuracy(net, data['train']))"
      ]
    },
    {
      "cell_type": "code",
      "execution_count": null,
      "metadata": {
        "id": "Rb_uwitc30lc"
      },
      "outputs": [],
      "source": [
        "print(\"Net1 test accuracy: %f\" % accuracy(net, data['test']))"
      ]
    },
    {
      "cell_type": "markdown",
      "source": [
        "## Neural Network 2\n",
        "\n",
        "This network has two hidden layers. The training accuracy was 83.27% and the testing accuracy was 82.97%.\n"
      ],
      "metadata": {
        "id": "nwhoE9aC-eps"
      }
    },
    {
      "cell_type": "code",
      "execution_count": null,
      "metadata": {
        "id": "LBXq4rTAH3Hh"
      },
      "outputs": [],
      "source": [
        "import torch.nn as nn\n",
        "import torch.nn.functional as F\n",
        "\n",
        "# Neural network 2: Simple neural network with two hidden layers\n",
        "class Net2(nn.Module):\n",
        "    def __init__(self, inputs=28*28, hidden1=128, hidden2=128, outputs=62):\n",
        "        super(Net2, self).__init__()\n",
        "        self.fc1 = nn.Linear(inputs, hidden1)\n",
        "        self.fc2 = nn.Linear(hidden1, hidden2)\n",
        "        self.fc3 = nn.Linear(hidden2, outputs)\n",
        "\n",
        "    def forward(self, x):\n",
        "        x = torch.flatten(x, 1)\n",
        "        x = self.fc1(x)\n",
        "        x = F.relu(x)  \n",
        "        x = self.fc2(x)\n",
        "        x = F.relu(x) \n",
        "        x = self.fc3(x)\n",
        "        return x      "
      ]
    },
    {
      "cell_type": "code",
      "execution_count": null,
      "metadata": {
        "id": "26vyF5bH9xb1"
      },
      "outputs": [],
      "source": [
        "# Train Net2 with default hyperparameters\n",
        "net2 = Net2()\n",
        "losses = train(net2, data['train'], epochs=5)\n",
        "plt.plot(losses)"
      ]
    },
    {
      "cell_type": "code",
      "execution_count": null,
      "metadata": {
        "id": "lHMtlhgfvdxw"
      },
      "outputs": [],
      "source": [
        "print(\"Net2 train accuracy: %f\" % accuracy(net2, data['train']))"
      ]
    },
    {
      "cell_type": "code",
      "execution_count": null,
      "metadata": {
        "id": "CND8ViDrvp6j"
      },
      "outputs": [],
      "source": [
        "print(\"Net2 test accuracy: %f\" % accuracy(net2, data['test']))"
      ]
    },
    {
      "cell_type": "markdown",
      "source": [
        "## Neural Network 3\n",
        "\n",
        "This network has two convolutional layers. The training accuracy was 83.51% and the testing accuracy was 83.13%. When simulated annealing was applied, the training accuracy ticked up 84.28% and the testing accuracy ticked up to 83.75%."
      ],
      "metadata": {
        "id": "B_6y3lBD-28j"
      }
    },
    {
      "cell_type": "code",
      "execution_count": null,
      "metadata": {
        "id": "NNUPgHPyb8DQ"
      },
      "outputs": [],
      "source": [
        "import torch.nn as nn\n",
        "import torch.nn.functional as F\n",
        "\n",
        "# Neural network 3: Convolutional neural network with two convolutional layers\n",
        "class ConvNet(nn.Module):\n",
        "    def __init__(self):\n",
        "        super(ConvNet, self).__init__()\n",
        "        # Input 28x28x1 image\n",
        "        # 16 filters\n",
        "        # 3x3 filter size (they also have 3 channels)\n",
        "        # stride 2 (downsampling by factor of 2)\n",
        "        # Output image: 14x14x16\n",
        "        self.conv1 = nn.Conv2d(1, 16, 3, stride=2, padding=1)\n",
        "\n",
        "        # Input 14x14x16 image\n",
        "        # 32 filters\n",
        "        # 3x3x16 filter size (they also have 16 channels)\n",
        "        # stride 2 (downsampling by factor of 2)\n",
        "        # Output image: 7x7x32\n",
        "        self.conv2 = nn.Conv2d(16, 32, 3, stride=2, padding=1)\n",
        "\n",
        "        self.fc1 = nn.Linear(1568, 62)\n",
        "\n",
        "    def forward(self, x):\n",
        "        x = self.conv1(x)\n",
        "        x = F.relu(x)\n",
        "        x = self.conv2(x)\n",
        "        x = F.relu(x)\n",
        "        x = torch.flatten(x, 1)\n",
        "        x = self.fc1(x)\n",
        "        return x"
      ]
    },
    {
      "cell_type": "code",
      "execution_count": null,
      "metadata": {
        "id": "X21KUXI5c0I5"
      },
      "outputs": [],
      "source": [
        "# Train ConvNet with default hyperparameters\n",
        "conv_net = ConvNet()\n",
        "losses = train(conv_net, data['train'], epochs=5)\n",
        "plt.plot(losses)"
      ]
    },
    {
      "cell_type": "code",
      "execution_count": null,
      "metadata": {
        "id": "o5WTU5ihYtl2"
      },
      "outputs": [],
      "source": [
        "print(\"ConvNet train accuracy: %f\" % accuracy(conv_net, data['train']))"
      ]
    },
    {
      "cell_type": "code",
      "execution_count": null,
      "metadata": {
        "id": "yrYx54uEaFAd"
      },
      "outputs": [],
      "source": [
        "print(\"ConvNet test accuracy: %f\" % accuracy(conv_net, data['test']))"
      ]
    },
    {
      "cell_type": "markdown",
      "source": [
        "We used simulated annealing on ConvNet. This was our best model and the model we used for CAPTCHAs. The training accuracy was 84.28% and the testing accuracy was 83.75%."
      ],
      "metadata": {
        "id": "X6VeaXAm-6XF"
      }
    },
    {
      "cell_type": "code",
      "execution_count": null,
      "metadata": {
        "id": "JEQ_sbwXcX61"
      },
      "outputs": [],
      "source": [
        "# Use simulated annealing for training ConvNet\n",
        "anneal_net = ConvNet()\n",
        "\n",
        "anneal_losses =  train(anneal_net, data['train'], epochs=2, lr=.1)\n",
        "anneal_losses += train(anneal_net, data['train'], epochs=2, lr=.01)\n",
        "anneal_losses += train(anneal_net, data['train'], epochs=2, lr=.001)\n",
        "\n",
        "plt.plot(anneal_losses)"
      ]
    },
    {
      "cell_type": "code",
      "execution_count": null,
      "metadata": {
        "id": "XG38FY1shneK"
      },
      "outputs": [],
      "source": [
        "print(\"AnnealNet train accuracy: %f\" % accuracy(anneal_net, data['train']))"
      ]
    },
    {
      "cell_type": "code",
      "execution_count": null,
      "metadata": {
        "id": "4VeHwzJykQwJ"
      },
      "outputs": [],
      "source": [
        "print(\"AnnealNet test accuracy: %f\" % accuracy(anneal_net, data['test']))"
      ]
    },
    {
      "cell_type": "markdown",
      "source": [
        "## Neural Network 4\n",
        "\n",
        "This network has two convolutional layers with batch normalization. The training accuracy was 83.07% and the testing accuracy was 82.60%."
      ],
      "metadata": {
        "id": "KX_PutNe_M0w"
      }
    },
    {
      "cell_type": "code",
      "execution_count": null,
      "metadata": {
        "id": "wY_AedO9l1CP"
      },
      "outputs": [],
      "source": [
        "import torch.nn as nn\n",
        "import torch.nn.functional as F\n",
        "\n",
        "# Neural network 4: Convolutional neural network with two convolutional layers and batch normalization\n",
        "class ConvBNNet(nn.Module):\n",
        "    def __init__(self):\n",
        "        super(ConvBNNet, self).__init__()\n",
        "\n",
        "        self.conv1 = nn.Conv2d(1, 16, 3, stride=2, padding=1)\n",
        "        self.bn1 = nn.BatchNorm2d(16)\n",
        "        self.conv2 = nn.Conv2d(16, 32, 3, stride=2, padding=1)\n",
        "        self.bn2 = nn.BatchNorm2d(32)\n",
        "        self.fc1 = nn.Linear(1568, 62)\n",
        "\n",
        "    def forward(self, x):\n",
        "        x = self.conv1(x)\n",
        "        x = self.bn1(x)\n",
        "        x = F.relu(x)\n",
        "        x = self.conv2(x)\n",
        "        x = self.bn2(x)\n",
        "        x = F.relu(x)\n",
        "        x = torch.flatten(x, 1)\n",
        "        x = self.fc1(x)\n",
        "        return x"
      ]
    },
    {
      "cell_type": "code",
      "execution_count": null,
      "metadata": {
        "id": "JhmyrKR8nGkQ"
      },
      "outputs": [],
      "source": [
        "# Train ConvBNNet with default hyperparameters\n",
        "norm_net = ConvBNNet()\n",
        "norm_losses = train(norm_net, data['train'], epochs=3)\n",
        "plt.plot(norm_losses)"
      ]
    },
    {
      "cell_type": "code",
      "execution_count": null,
      "metadata": {
        "id": "wK2yL9kJsl3Y"
      },
      "outputs": [],
      "source": [
        "print(\"ConvBNNet train accuracy: %f\" % accuracy(norm_net, data['train']))"
      ]
    },
    {
      "cell_type": "code",
      "execution_count": null,
      "metadata": {
        "id": "RUeu5-a7ueCk"
      },
      "outputs": [],
      "source": [
        "print(\"ConvBNNet test accuracy: %f\" % accuracy(norm_net, data['test']))"
      ]
    }
  ],
  "metadata": {
    "colab": {
      "provenance": [],
      "include_colab_link": true
    },
    "gpuClass": "standard",
    "kernelspec": {
      "display_name": "Python 3",
      "name": "python3"
    },
    "language_info": {
      "name": "python"
    }
  },
  "nbformat": 4,
  "nbformat_minor": 0
}